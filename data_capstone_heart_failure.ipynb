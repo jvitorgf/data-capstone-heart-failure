{
 "cells": [
  {
   "cell_type": "markdown",
   "id": "a57631c9",
   "metadata": {},
   "source": [
    "# Projeto de análise de dados de predição de insuficiência cardíaca"
   ]
  },
  {
   "cell_type": "markdown",
   "id": "ecc2897e",
   "metadata": {},
   "source": [
    "Fonte: [Kaggle](https://www.kaggle.com/fedesoriano/heart-failure-prediction)\n",
    "\n",
    "Informações dos campos:\n",
    "\n",
    "* Age: age of the patient [years]\n",
    "* Sex: sex of the patient [M: Male, F: Female]\n",
    "* ChestPainType: chest pain type [TA: Typical Angina, ATA: Atypical Angina, NAP: Non-Anginal Pain, ASY: Asymptomatic]\n",
    "* RestingBP: resting blood pressure [mm Hg]\n",
    "* Cholesterol: serum cholesterol [mm/dl]\n",
    "* FastingBS: fasting blood sugar [1: if FastingBS > 120 mg/dl, 0: otherwise]\n",
    "* RestingECG: resting electrocardiogram results [Normal: Normal, ST: having ST-T wave abnormality (T wave inversions and/or ST elevation or depression of > 0.05 mV), LVH: showing probable or definite left ventricular hypertrophy by Estes' criteria]\n",
    "* MaxHR: maximum heart rate achieved [Numeric value between 60 and 202]\n",
    "* ExerciseAngina: exercise-induced angina [Y: Yes, N: No]\n",
    "* Oldpeak: oldpeak = ST [Numeric value measured in depression]\n",
    "* ST_Slope: the slope of the peak exercise ST segment [Up: upsloping, Flat: flat, Down: downsloping]\n",
    "* HeartDisease: output class [1: heart disease, 0: Normal]"
   ]
  },
  {
   "cell_type": "markdown",
   "id": "de0f2a40",
   "metadata": {},
   "source": [
    " Importação das bibliotecas necessárias para a análise e visualização de dados: "
   ]
  },
  {
   "cell_type": "code",
   "execution_count": 1,
   "id": "34cbd668",
   "metadata": {},
   "outputs": [],
   "source": [
    "import numpy as np\n",
    "import pandas as pd\n",
    "import matplotlib.pyplot as plt\n",
    "import seaborn as sn\n",
    "\n",
    "%matplotlib inline"
   ]
  },
  {
   "cell_type": "markdown",
   "id": "3a95c354",
   "metadata": {},
   "source": [
    "Leitura do arquivo .csv do cojunto de dados para um dataframe: "
   ]
  },
  {
   "cell_type": "code",
   "execution_count": 2,
   "id": "7a9defe9",
   "metadata": {},
   "outputs": [],
   "source": [
    "df = pd.read_csv('heart.csv')"
   ]
  },
  {
   "cell_type": "markdown",
   "id": "05b7e688",
   "metadata": {},
   "source": [
    "Checando o info(): "
   ]
  },
  {
   "cell_type": "code",
   "execution_count": 3,
   "id": "4fa9c420",
   "metadata": {},
   "outputs": [
    {
     "name": "stdout",
     "output_type": "stream",
     "text": [
      "<class 'pandas.core.frame.DataFrame'>\n",
      "RangeIndex: 918 entries, 0 to 917\n",
      "Data columns (total 12 columns):\n",
      " #   Column          Non-Null Count  Dtype  \n",
      "---  ------          --------------  -----  \n",
      " 0   Age             918 non-null    int64  \n",
      " 1   Sex             918 non-null    object \n",
      " 2   ChestPainType   918 non-null    object \n",
      " 3   RestingBP       918 non-null    int64  \n",
      " 4   Cholesterol     918 non-null    int64  \n",
      " 5   FastingBS       918 non-null    int64  \n",
      " 6   RestingECG      918 non-null    object \n",
      " 7   MaxHR           918 non-null    int64  \n",
      " 8   ExerciseAngina  918 non-null    object \n",
      " 9   Oldpeak         918 non-null    float64\n",
      " 10  ST_Slope        918 non-null    object \n",
      " 11  HeartDisease    918 non-null    int64  \n",
      "dtypes: float64(1), int64(6), object(5)\n",
      "memory usage: 86.2+ KB\n"
     ]
    }
   ],
   "source": [
    "df.info()"
   ]
  },
  {
   "cell_type": "markdown",
   "id": "47748f96",
   "metadata": {},
   "source": [
    "Checando o head(): "
   ]
  },
  {
   "cell_type": "code",
   "execution_count": 4,
   "id": "7cd9e6a5",
   "metadata": {},
   "outputs": [
    {
     "data": {
      "text/html": [
       "<div>\n",
       "<style scoped>\n",
       "    .dataframe tbody tr th:only-of-type {\n",
       "        vertical-align: middle;\n",
       "    }\n",
       "\n",
       "    .dataframe tbody tr th {\n",
       "        vertical-align: top;\n",
       "    }\n",
       "\n",
       "    .dataframe thead th {\n",
       "        text-align: right;\n",
       "    }\n",
       "</style>\n",
       "<table border=\"1\" class=\"dataframe\">\n",
       "  <thead>\n",
       "    <tr style=\"text-align: right;\">\n",
       "      <th></th>\n",
       "      <th>Age</th>\n",
       "      <th>Sex</th>\n",
       "      <th>ChestPainType</th>\n",
       "      <th>RestingBP</th>\n",
       "      <th>Cholesterol</th>\n",
       "      <th>FastingBS</th>\n",
       "      <th>RestingECG</th>\n",
       "      <th>MaxHR</th>\n",
       "      <th>ExerciseAngina</th>\n",
       "      <th>Oldpeak</th>\n",
       "      <th>ST_Slope</th>\n",
       "      <th>HeartDisease</th>\n",
       "    </tr>\n",
       "  </thead>\n",
       "  <tbody>\n",
       "    <tr>\n",
       "      <th>0</th>\n",
       "      <td>40</td>\n",
       "      <td>M</td>\n",
       "      <td>ATA</td>\n",
       "      <td>140</td>\n",
       "      <td>289</td>\n",
       "      <td>0</td>\n",
       "      <td>Normal</td>\n",
       "      <td>172</td>\n",
       "      <td>N</td>\n",
       "      <td>0.0</td>\n",
       "      <td>Up</td>\n",
       "      <td>0</td>\n",
       "    </tr>\n",
       "    <tr>\n",
       "      <th>1</th>\n",
       "      <td>49</td>\n",
       "      <td>F</td>\n",
       "      <td>NAP</td>\n",
       "      <td>160</td>\n",
       "      <td>180</td>\n",
       "      <td>0</td>\n",
       "      <td>Normal</td>\n",
       "      <td>156</td>\n",
       "      <td>N</td>\n",
       "      <td>1.0</td>\n",
       "      <td>Flat</td>\n",
       "      <td>1</td>\n",
       "    </tr>\n",
       "    <tr>\n",
       "      <th>2</th>\n",
       "      <td>37</td>\n",
       "      <td>M</td>\n",
       "      <td>ATA</td>\n",
       "      <td>130</td>\n",
       "      <td>283</td>\n",
       "      <td>0</td>\n",
       "      <td>ST</td>\n",
       "      <td>98</td>\n",
       "      <td>N</td>\n",
       "      <td>0.0</td>\n",
       "      <td>Up</td>\n",
       "      <td>0</td>\n",
       "    </tr>\n",
       "    <tr>\n",
       "      <th>3</th>\n",
       "      <td>48</td>\n",
       "      <td>F</td>\n",
       "      <td>ASY</td>\n",
       "      <td>138</td>\n",
       "      <td>214</td>\n",
       "      <td>0</td>\n",
       "      <td>Normal</td>\n",
       "      <td>108</td>\n",
       "      <td>Y</td>\n",
       "      <td>1.5</td>\n",
       "      <td>Flat</td>\n",
       "      <td>1</td>\n",
       "    </tr>\n",
       "    <tr>\n",
       "      <th>4</th>\n",
       "      <td>54</td>\n",
       "      <td>M</td>\n",
       "      <td>NAP</td>\n",
       "      <td>150</td>\n",
       "      <td>195</td>\n",
       "      <td>0</td>\n",
       "      <td>Normal</td>\n",
       "      <td>122</td>\n",
       "      <td>N</td>\n",
       "      <td>0.0</td>\n",
       "      <td>Up</td>\n",
       "      <td>0</td>\n",
       "    </tr>\n",
       "  </tbody>\n",
       "</table>\n",
       "</div>"
      ],
      "text/plain": [
       "   Age Sex ChestPainType  RestingBP  Cholesterol  FastingBS RestingECG  MaxHR  \\\n",
       "0   40   M           ATA        140          289          0     Normal    172   \n",
       "1   49   F           NAP        160          180          0     Normal    156   \n",
       "2   37   M           ATA        130          283          0         ST     98   \n",
       "3   48   F           ASY        138          214          0     Normal    108   \n",
       "4   54   M           NAP        150          195          0     Normal    122   \n",
       "\n",
       "  ExerciseAngina  Oldpeak ST_Slope  HeartDisease  \n",
       "0              N      0.0       Up             0  \n",
       "1              N      1.0     Flat             1  \n",
       "2              N      0.0       Up             0  \n",
       "3              Y      1.5     Flat             1  \n",
       "4              N      0.0       Up             0  "
      ]
     },
     "execution_count": 4,
     "metadata": {},
     "output_type": "execute_result"
    }
   ],
   "source": [
    "df.head()"
   ]
  },
  {
   "cell_type": "markdown",
   "id": "c4083cad",
   "metadata": {},
   "source": [
    "* Remoção de linhas do dataFrame onde o colesterol e pressão arterial são 0"
   ]
  },
  {
   "cell_type": "code",
   "execution_count": 5,
   "id": "8a92d3a4",
   "metadata": {},
   "outputs": [],
   "source": [
    "df = df[df['Cholesterol'] != 0]\n",
    "df = df[df['RestingBP'] != 0]"
   ]
  },
  {
   "cell_type": "markdown",
   "id": "4b9f53f8",
   "metadata": {},
   "source": [
    "# Questões básicas"
   ]
  },
  {
   "cell_type": "markdown",
   "id": "abc306f0",
   "metadata": {},
   "source": [
    "* Qual a idade média das pessoas ?"
   ]
  },
  {
   "cell_type": "code",
   "execution_count": 6,
   "id": "75059a2d",
   "metadata": {},
   "outputs": [
    {
     "data": {
      "text/plain": [
       "52.88203753351206"
      ]
     },
     "execution_count": 6,
     "metadata": {},
     "output_type": "execute_result"
    }
   ],
   "source": [
    "df['Age'].mean()"
   ]
  },
  {
   "cell_type": "markdown",
   "id": "ea287b7f",
   "metadata": {},
   "source": [
    "* Qual a média do colesterol das 5 pessoas com maior idade? e das 5 pessoas com menor idade ?"
   ]
  },
  {
   "cell_type": "code",
   "execution_count": 7,
   "id": "896e9a84",
   "metadata": {},
   "outputs": [
    {
     "data": {
      "text/plain": [
       "197.6"
      ]
     },
     "execution_count": 7,
     "metadata": {},
     "output_type": "execute_result"
    }
   ],
   "source": [
    "#Maior idade\n",
    "df.nlargest(5,'Age')['Cholesterol'].mean()"
   ]
  },
  {
   "cell_type": "code",
   "execution_count": 8,
   "id": "2860c150",
   "metadata": {},
   "outputs": [
    {
     "data": {
      "text/plain": [
       "215.8"
      ]
     },
     "execution_count": 8,
     "metadata": {},
     "output_type": "execute_result"
    }
   ],
   "source": [
    "#Menor idade\n",
    "df.nsmallest(5,'Age')['Cholesterol'].mean()"
   ]
  },
  {
   "cell_type": "markdown",
   "id": "f837b66e",
   "metadata": {},
   "source": [
    "* Das 10 pessoas com maior nível de pressão arterial, quais tipos de dor no peito elas apresentam ?"
   ]
  },
  {
   "cell_type": "code",
   "execution_count": 9,
   "id": "d7b3b5a0",
   "metadata": {},
   "outputs": [
    {
     "data": {
      "text/plain": [
       "ASY    5\n",
       "ATA    4\n",
       "NAP    1\n",
       "Name: ChestPainType, dtype: int64"
      ]
     },
     "execution_count": 9,
     "metadata": {},
     "output_type": "execute_result"
    }
   ],
   "source": [
    "df.nlargest(10,'RestingBP')['ChestPainType'].value_counts()\n",
    "\n",
    "# 5 assintomáticas, 4 com angina atípica e 1 com dor não aginosa"
   ]
  },
  {
   "cell_type": "markdown",
   "id": "9a8718dc",
   "metadata": {},
   "source": [
    "* Das pessoas com nível de glicemia em jejum maior que 120 mg/dl, quantas possuem doença cardíaca?"
   ]
  },
  {
   "cell_type": "code",
   "execution_count": 10,
   "id": "9ce1deae",
   "metadata": {},
   "outputs": [
    {
     "data": {
      "text/plain": [
       "82"
      ]
     },
     "execution_count": 10,
     "metadata": {},
     "output_type": "execute_result"
    }
   ],
   "source": [
    "df[(df['FastingBS'] == 1) &(df['HeartDisease'] == 1)]['HeartDisease'].count()"
   ]
  },
  {
   "cell_type": "markdown",
   "id": "0cc1e827",
   "metadata": {},
   "source": [
    "* Qual o maior valor de colesterol desse conjunto de pessoas ?"
   ]
  },
  {
   "cell_type": "code",
   "execution_count": 11,
   "id": "23527c47",
   "metadata": {},
   "outputs": [
    {
     "data": {
      "text/plain": [
       "603"
      ]
     },
     "execution_count": 11,
     "metadata": {},
     "output_type": "execute_result"
    }
   ],
   "source": [
    "df['Cholesterol'].max()"
   ]
  },
  {
   "cell_type": "markdown",
   "id": "d9329936",
   "metadata": {},
   "source": [
    "* Qual a média de colesterol para cada tipo de dor no peito ?"
   ]
  },
  {
   "cell_type": "code",
   "execution_count": 12,
   "id": "696b3223",
   "metadata": {},
   "outputs": [
    {
     "data": {
      "text/plain": [
       "ChestPainType\n",
       "ASY    250.205405\n",
       "ATA    242.873494\n",
       "NAP    237.159763\n",
       "TA     232.317073\n",
       "Name: Cholesterol, dtype: float64"
      ]
     },
     "execution_count": 12,
     "metadata": {},
     "output_type": "execute_result"
    }
   ],
   "source": [
    "df.groupby('ChestPainType').mean()['Cholesterol']"
   ]
  },
  {
   "cell_type": "markdown",
   "id": "2f6a542b",
   "metadata": {},
   "source": [
    "* Qual a média da frequência cardíaca máxima atingida para cada tipo de dor no peito ?"
   ]
  },
  {
   "cell_type": "code",
   "execution_count": 13,
   "id": "2e2b107f",
   "metadata": {},
   "outputs": [
    {
     "data": {
      "text/plain": [
       "ChestPainType\n",
       "ASY    131.048649\n",
       "ATA    151.373494\n",
       "NAP    147.124260\n",
       "TA     149.487805\n",
       "Name: MaxHR, dtype: float64"
      ]
     },
     "execution_count": 13,
     "metadata": {},
     "output_type": "execute_result"
    }
   ],
   "source": [
    "df.groupby('ChestPainType').mean()['MaxHR']"
   ]
  },
  {
   "cell_type": "markdown",
   "id": "cc78a3fd",
   "metadata": {},
   "source": [
    "* Das pessoas com idade maior ou igual a 50 anos, quantas apresentam resultados do eletrocardiograma em repouso normais ? e das pessoas com menos de 50 anos ?"
   ]
  },
  {
   "cell_type": "code",
   "execution_count": 14,
   "id": "584fedf0",
   "metadata": {},
   "outputs": [
    {
     "data": {
      "text/plain": [
       "251"
      ]
     },
     "execution_count": 14,
     "metadata": {},
     "output_type": "execute_result"
    }
   ],
   "source": [
    "df[(df['Age'] >= 50) &(df['RestingECG'] == 'Normal')]['RestingECG'].count()"
   ]
  },
  {
   "cell_type": "code",
   "execution_count": 15,
   "id": "294f94a5",
   "metadata": {},
   "outputs": [
    {
     "data": {
      "text/plain": [
       "194"
      ]
     },
     "execution_count": 15,
     "metadata": {},
     "output_type": "execute_result"
    }
   ],
   "source": [
    "df[(df['Age'] < 50) &(df['RestingECG'] == 'Normal')]['RestingECG'].count()"
   ]
  },
  {
   "cell_type": "markdown",
   "id": "d1cf7571",
   "metadata": {},
   "source": [
    "* Das pessoas com doença cardíaca, quantas apresentam cada tipo de dor no peito ?"
   ]
  },
  {
   "cell_type": "code",
   "execution_count": 16,
   "id": "ea2e4283",
   "metadata": {},
   "outputs": [
    {
     "data": {
      "text/plain": [
       "ASY    274\n",
       "NAP     46\n",
       "ATA     21\n",
       "TA      15\n",
       "Name: ChestPainType, dtype: int64"
      ]
     },
     "execution_count": 16,
     "metadata": {},
     "output_type": "execute_result"
    }
   ],
   "source": [
    "df[df['HeartDisease'] == 1]['ChestPainType'].value_counts()"
   ]
  },
  {
   "cell_type": "markdown",
   "id": "a2404457",
   "metadata": {},
   "source": [
    "* Qual a média do colesterol, pressão arterial em repouso e frequência cardíaca máxima das pessoas com hipertrofia ventricular esquerda ?"
   ]
  },
  {
   "cell_type": "code",
   "execution_count": 17,
   "id": "198aebea",
   "metadata": {},
   "outputs": [
    {
     "data": {
      "text/plain": [
       "253.10227272727272"
      ]
     },
     "execution_count": 17,
     "metadata": {},
     "output_type": "execute_result"
    }
   ],
   "source": [
    "df[df['RestingECG'] == 'LVH']['Cholesterol'].mean()"
   ]
  },
  {
   "cell_type": "code",
   "execution_count": 18,
   "id": "0b558478",
   "metadata": {},
   "outputs": [
    {
     "data": {
      "text/plain": [
       "133.7443181818182"
      ]
     },
     "execution_count": 18,
     "metadata": {},
     "output_type": "execute_result"
    }
   ],
   "source": [
    "df[df['RestingECG'] == 'LVH']['RestingBP'].mean()"
   ]
  },
  {
   "cell_type": "code",
   "execution_count": 19,
   "id": "7ceda3f5",
   "metadata": {},
   "outputs": [
    {
     "data": {
      "text/plain": [
       "144.4375"
      ]
     },
     "execution_count": 19,
     "metadata": {},
     "output_type": "execute_result"
    }
   ],
   "source": [
    "df[df['RestingECG'] == 'LVH']['MaxHR'].mean()"
   ]
  },
  {
   "cell_type": "markdown",
   "id": "69a6f979",
   "metadata": {},
   "source": [
    "* Qual a média do colesterol, pressão arterial em repouso e frequência cardíaca máxima das pessoas sem doença cardíaca ?"
   ]
  },
  {
   "cell_type": "code",
   "execution_count": 20,
   "id": "c81ddcc1",
   "metadata": {},
   "outputs": [
    {
     "data": {
      "text/plain": [
       "238.76923076923077"
      ]
     },
     "execution_count": 20,
     "metadata": {},
     "output_type": "execute_result"
    }
   ],
   "source": [
    "df[df['HeartDisease'] == 0]['Cholesterol'].mean()"
   ]
  },
  {
   "cell_type": "code",
   "execution_count": 21,
   "id": "8eebe2ee",
   "metadata": {},
   "outputs": [
    {
     "data": {
      "text/plain": [
       "130.16410256410256"
      ]
     },
     "execution_count": 21,
     "metadata": {},
     "output_type": "execute_result"
    }
   ],
   "source": [
    "df[df['HeartDisease'] == 0]['RestingBP'].mean()"
   ]
  },
  {
   "cell_type": "code",
   "execution_count": 22,
   "id": "494ce03f",
   "metadata": {},
   "outputs": [
    {
     "data": {
      "text/plain": [
       "149.05897435897435"
      ]
     },
     "execution_count": 22,
     "metadata": {},
     "output_type": "execute_result"
    }
   ],
   "source": [
    "df[df['HeartDisease'] == 0]['MaxHR'].mean()"
   ]
  },
  {
   "cell_type": "markdown",
   "id": "42f8ed24",
   "metadata": {},
   "source": [
    "# Visualização"
   ]
  },
  {
   "cell_type": "markdown",
   "id": "3f6192bc",
   "metadata": {},
   "source": [
    "* Crie um gráfico que mostre a quantidade de pessoas por resultados de eletrocardiograma em repouso"
   ]
  },
  {
   "cell_type": "code",
   "execution_count": 109,
   "id": "564ce500",
   "metadata": {},
   "outputs": [
    {
     "data": {
      "text/plain": [
       "<AxesSubplot:xlabel='RestingECG', ylabel='count'>"
      ]
     },
     "execution_count": 109,
     "metadata": {},
     "output_type": "execute_result"
    },
    {
     "data": {
      "image/png": "[encoded data removed]",
      "text/plain": [
       "<Figure size 432x288 with 1 Axes>"
      ]
     },
     "metadata": {
      "needs_background": "light"
     },
     "output_type": "display_data"
    }
   ],
   "source": [
    "sn.countplot(x='RestingECG',data=df)"
   ]
  },
  {
   "cell_type": "markdown",
   "id": "99322fb4",
   "metadata": {},
   "source": [
    "* Crie um gráfico que mostre as pessoas com nível de glicemia em jejum maior que 120 mg/dl e que possuem doença cardíaca, agrupadas por idade\n"
   ]
  },
  {
   "cell_type": "code",
   "execution_count": 113,
   "id": "181c44a4",
   "metadata": {},
   "outputs": [
    {
     "data": {
      "image/png": "[encoded data removed]",
      "text/plain": [
       "<Figure size 432x288 with 1 Axes>"
      ]
     },
     "metadata": {
      "needs_background": "light"
     },
     "output_type": "display_data"
    }
   ],
   "source": [
    "df[(df['FastingBS'] == 1) &(df['HeartDisease'] == 1)].groupby('Age').count()['FastingBS'].plot()\n",
    "plt.tight_layout()"
   ]
  },
  {
   "cell_type": "markdown",
   "id": "a52ffb1c",
   "metadata": {},
   "source": [
    "* Crie um gráfico que relacione as pessoas pelo sexo e resultados do eletrocardiograma em repouso"
   ]
  },
  {
   "cell_type": "code",
   "execution_count": 114,
   "id": "69a9ac47",
   "metadata": {},
   "outputs": [
    {
     "data": {
      "text/plain": [
       "<AxesSubplot:xlabel='Sex', ylabel='RestingECG'>"
      ]
     },
     "execution_count": 114,
     "metadata": {},
     "output_type": "execute_result"
    },
    {
     "data": {
      "image/png": "[encoded data removed]",
      "text/plain": [
       "<Figure size 432x288 with 2 Axes>"
      ]
     },
     "metadata": {
      "needs_background": "light"
     },
     "output_type": "display_data"
    }
   ],
   "source": [
    "fn = df.groupby(by=['RestingECG','Sex']).count()['MaxHR'].unstack()\n",
    "sn.heatmap(fn)"
   ]
  },
  {
   "cell_type": "code",
   "execution_count": 115,
   "id": "5ddf952f",
   "metadata": {},
   "outputs": [
    {
     "data": {
      "text/plain": [
       "<seaborn.matrix.ClusterGrid at 0x21da588feb0>"
      ]
     },
     "execution_count": 115,
     "metadata": {},
     "output_type": "execute_result"
    },
    {
     "data": {
      "image/png": "[encoded data removed]",
      "text/plain": [
       "<Figure size 720x720 with 4 Axes>"
      ]
     },
     "metadata": {
      "needs_background": "light"
     },
     "output_type": "display_data"
    }
   ],
   "source": [
    "sn.clustermap(fn)"
   ]
  },
  {
   "cell_type": "code",
   "execution_count": null,
   "id": "3d713123",
   "metadata": {},
   "outputs": [],
   "source": []
  }
 ],
 "metadata": {
  "kernelspec": {
   "display_name": "Python 3",
   "language": "python",
   "name": "python3"
  },
  "language_info": {
   "codemirror_mode": {
    "name": "ipython",
    "version": 3
   },
   "file_extension": ".py",
   "mimetype": "text/x-python",
   "name": "python",
   "nbconvert_exporter": "python",
   "pygments_lexer": "ipython3",
   "version": "3.8.8"
  }
 },
 "nbformat": 4,
 "nbformat_minor": 5
}
